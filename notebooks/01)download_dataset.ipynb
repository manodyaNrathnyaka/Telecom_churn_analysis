{
 "cells": [
  {
   "cell_type": "code",
   "execution_count": 1,
   "id": "a7f1c6de",
   "metadata": {},
   "outputs": [],
   "source": [
    "import numpy as np \n",
    "mnassrib/telecom-churn-datasets"
   ]
  },
  {
   "cell_type": "code",
   "execution_count": 1,
   "id": "466b7b11-5601-4836-b4ab-8b21eae4bc3a",
   "metadata": {},
   "outputs": [],
   "source": [
    "import json \n",
    "with open (\"../dataset/kaggle.json\", 'r') as file:\n",
    "    data=json.load(file)\n",
    "    \n"
   ]
  },
  {
   "cell_type": "code",
   "execution_count": 2,
   "id": "2fb1ea53-4931-4e99-9f44-ec799fe8e0e6",
   "metadata": {},
   "outputs": [
    {
     "data": {
      "text/plain": [
       "{'username': 'manodyarathnayaka', 'key': 'a108bc36657761aa216b42acda83ad4e'}"
      ]
     },
     "execution_count": 2,
     "metadata": {},
     "output_type": "execute_result"
    }
   ],
   "source": [
    "data"
   ]
  },
  {
   "cell_type": "code",
   "execution_count": 3,
   "id": "f46d47ab-89a4-4cb2-b2ac-2550313e6cf7",
   "metadata": {},
   "outputs": [
    {
     "name": "stdout",
     "output_type": "stream",
     "text": [
      "Collecting kaggle\n",
      "  Obtaining dependency information for kaggle from https://files.pythonhosted.org/packages/14/83/7f29c7abe0d5dc769dad7da993382c3e4239ad63e1dd58414d129e0a4da2/kaggle-1.7.4.5-py3-none-any.whl.metadata\n",
      "  Using cached kaggle-1.7.4.5-py3-none-any.whl.metadata (16 kB)\n",
      "Requirement already satisfied: bleach in c:\\users\\manodya\\desktop\\bsc.ai\\academic levels\\l3s1\\machine learning\\telecom_churn_analysis\\rf_xgbost\\lib\\site-packages (from kaggle) (6.3.0)\n",
      "Requirement already satisfied: certifi>=14.05.14 in c:\\users\\manodya\\desktop\\bsc.ai\\academic levels\\l3s1\\machine learning\\telecom_churn_analysis\\rf_xgbost\\lib\\site-packages (from kaggle) (2025.10.5)\n",
      "Requirement already satisfied: charset-normalizer in c:\\users\\manodya\\desktop\\bsc.ai\\academic levels\\l3s1\\machine learning\\telecom_churn_analysis\\rf_xgbost\\lib\\site-packages (from kaggle) (3.4.4)\n",
      "Requirement already satisfied: idna in c:\\users\\manodya\\desktop\\bsc.ai\\academic levels\\l3s1\\machine learning\\telecom_churn_analysis\\rf_xgbost\\lib\\site-packages (from kaggle) (3.11)\n",
      "Collecting protobuf (from kaggle)\n",
      "  Obtaining dependency information for protobuf from https://files.pythonhosted.org/packages/7b/c6/7a465f1825872c55e0341ff4a80198743f73b69ce5d43ab18043699d1d81/protobuf-6.33.0-cp310-abi3-win_amd64.whl.metadata\n",
      "  Using cached protobuf-6.33.0-cp310-abi3-win_amd64.whl.metadata (593 bytes)\n",
      "Requirement already satisfied: python-dateutil>=2.5.3 in c:\\users\\manodya\\desktop\\bsc.ai\\academic levels\\l3s1\\machine learning\\telecom_churn_analysis\\rf_xgbost\\lib\\site-packages (from kaggle) (2.9.0.post0)\n",
      "Collecting python-slugify (from kaggle)\n",
      "  Obtaining dependency information for python-slugify from https://files.pythonhosted.org/packages/a4/62/02da182e544a51a5c3ccf4b03ab79df279f9c60c5e82d5e8bec7ca26ac11/python_slugify-8.0.4-py2.py3-none-any.whl.metadata\n",
      "  Using cached python_slugify-8.0.4-py2.py3-none-any.whl.metadata (8.5 kB)\n",
      "Requirement already satisfied: requests in c:\\users\\manodya\\desktop\\bsc.ai\\academic levels\\l3s1\\machine learning\\telecom_churn_analysis\\rf_xgbost\\lib\\site-packages (from kaggle) (2.32.5)\n",
      "Requirement already satisfied: setuptools>=21.0.0 in c:\\users\\manodya\\desktop\\bsc.ai\\academic levels\\l3s1\\machine learning\\telecom_churn_analysis\\rf_xgbost\\lib\\site-packages (from kaggle) (80.9.0)\n",
      "Requirement already satisfied: six>=1.10 in c:\\users\\manodya\\desktop\\bsc.ai\\academic levels\\l3s1\\machine learning\\telecom_churn_analysis\\rf_xgbost\\lib\\site-packages (from kaggle) (1.17.0)\n",
      "Collecting text-unidecode (from kaggle)\n",
      "  Obtaining dependency information for text-unidecode from https://files.pythonhosted.org/packages/a6/a5/c0b6468d3824fe3fde30dbb5e1f687b291608f9473681bbf7dabbf5a87d7/text_unidecode-1.3-py2.py3-none-any.whl.metadata\n",
      "  Using cached text_unidecode-1.3-py2.py3-none-any.whl.metadata (2.4 kB)\n",
      "Collecting tqdm (from kaggle)\n",
      "  Obtaining dependency information for tqdm from https://files.pythonhosted.org/packages/d0/30/dc54f88dd4a2b5dc8a0279bdd7270e735851848b762aeb1c1184ed1f6b14/tqdm-4.67.1-py3-none-any.whl.metadata\n",
      "  Using cached tqdm-4.67.1-py3-none-any.whl.metadata (57 kB)\n",
      "Requirement already satisfied: urllib3>=1.15.1 in c:\\users\\manodya\\desktop\\bsc.ai\\academic levels\\l3s1\\machine learning\\telecom_churn_analysis\\rf_xgbost\\lib\\site-packages (from kaggle) (2.5.0)\n",
      "Requirement already satisfied: webencodings in c:\\users\\manodya\\desktop\\bsc.ai\\academic levels\\l3s1\\machine learning\\telecom_churn_analysis\\rf_xgbost\\lib\\site-packages (from kaggle) (0.5.1)\n",
      "Requirement already satisfied: colorama in c:\\users\\manodya\\desktop\\bsc.ai\\academic levels\\l3s1\\machine learning\\telecom_churn_analysis\\rf_xgbost\\lib\\site-packages (from tqdm->kaggle) (0.4.6)\n",
      "Using cached kaggle-1.7.4.5-py3-none-any.whl (181 kB)\n",
      "Using cached protobuf-6.33.0-cp310-abi3-win_amd64.whl (436 kB)\n",
      "Using cached python_slugify-8.0.4-py2.py3-none-any.whl (10 kB)\n",
      "Using cached text_unidecode-1.3-py2.py3-none-any.whl (78 kB)\n",
      "Using cached tqdm-4.67.1-py3-none-any.whl (78 kB)\n",
      "Installing collected packages: text-unidecode, tqdm, python-slugify, protobuf, kaggle\n",
      "Successfully installed kaggle-1.7.4.5 protobuf-6.33.0 python-slugify-8.0.4 text-unidecode-1.3 tqdm-4.67.1\n"
     ]
    },
    {
     "name": "stderr",
     "output_type": "stream",
     "text": [
      "\n",
      "[notice] A new release of pip is available: 23.2.1 -> 25.3\n",
      "[notice] To update, run: python.exe -m pip install --upgrade pip\n"
     ]
    }
   ],
   "source": [
    "!pip install kaggle\n"
   ]
  },
  {
   "cell_type": "code",
   "execution_count": 5,
   "id": "d6d656f1-a52c-4f20-a6e6-7c64655cfd1a",
   "metadata": {},
   "outputs": [],
   "source": [
    "import os\n",
    "os.environ['KAGGLE_USERNAME']=data[\"username\"]\n",
    "os.environ[\"KAGGLE_KEY\"]=data[\"key\"]"
   ]
  },
  {
   "cell_type": "code",
   "execution_count": 6,
   "id": "3b701017-e081-41c2-963f-7a11eb46773b",
   "metadata": {},
   "outputs": [],
   "source": [
    "from kaggle.api.kaggle_api_extended import KaggleApi\n",
    "api=KaggleApi()\n",
    "api.authenticate()"
   ]
  },
  {
   "cell_type": "code",
   "execution_count": 7,
   "id": "c7ef168e-64df-4f78-a491-1b0e8b8290e3",
   "metadata": {},
   "outputs": [
    {
     "name": "stdout",
     "output_type": "stream",
     "text": [
      "Dataset URL: https://www.kaggle.com/datasets/mnassrib/telecom-churn-datasets\n"
     ]
    }
   ],
   "source": [
    "api.dataset_download_files(\"mnassrib/telecom-churn-datasets\", path=\"../dataset/\")"
   ]
  },
  {
   "cell_type": "code",
   "execution_count": 8,
   "id": "eb5dbf53-ce7a-4c34-832d-2e088e394989",
   "metadata": {},
   "outputs": [],
   "source": [
    "import zipfile\n",
    "with zipfile.ZipFile(\"../dataset/telecom-churn-datasets.zip\", 'r') as zip_ref:\n",
    "    zip_ref.extractall(\"../dataset\")"
   ]
  }
 ],
 "metadata": {
  "kernelspec": {
   "display_name": "Python 3 (ipykernel)",
   "language": "python",
   "name": "python3"
  },
  "language_info": {
   "codemirror_mode": {
    "name": "ipython",
    "version": 3
   },
   "file_extension": ".py",
   "mimetype": "text/x-python",
   "name": "python",
   "nbconvert_exporter": "python",
   "pygments_lexer": "ipython3",
   "version": "3.12.0"
  }
 },
 "nbformat": 4,
 "nbformat_minor": 5
}
